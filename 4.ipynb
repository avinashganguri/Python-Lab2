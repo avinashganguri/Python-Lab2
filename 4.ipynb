{
  "nbformat": 4,
  "nbformat_minor": 0,
  "metadata": {
    "colab": {
      "name": "LAB2_4.ipynb",
      "provenance": []
    },
    "kernelspec": {
      "name": "python3",
      "display_name": "Python 3"
    },
    "accelerator": "TPU"
  },
  "cells": [
    {
      "cell_type": "code",
      "metadata": {
        "id": "vJ2vogLD76rF",
        "colab_type": "code",
        "colab": {
          "base_uri": "https://localhost:8080/",
          "height": 34
        },
        "outputId": "28a112aa-e78a-463f-985c-377edaa112de"
      },
      "source": [
        "import pandas as pd # data processing, CSV file I/O (e.g. pd.read_csv)\n",
        "from keras.preprocessing.text import Tokenizer\n",
        "from keras.preprocessing.sequence import pad_sequences\n",
        "from keras.models import Sequential\n",
        "from keras.layers import Dense, Embedding, LSTM, SpatialDropout1D, Dropout, Conv1D, GlobalMaxPooling1D\n",
        "from matplotlib import pyplot\n",
        "from sklearn.model_selection import train_test_split\n",
        "from keras.utils.np_utils import to_categorical\n",
        "import re\n",
        "from sklearn.preprocessing import LabelEncoder\n",
        "from keras.callbacks import TensorBoard\n",
        "from time import time\n",
        "tensorboard=TensorBoard(log_dir=\"log/{}\".format(time()))"
      ],
      "execution_count": 1,
      "outputs": [
        {
          "output_type": "stream",
          "text": [
            "Using TensorFlow backend.\n"
          ],
          "name": "stderr"
        }
      ]
    },
    {
      "cell_type": "code",
      "metadata": {
        "id": "ZGU3PyCjBtnG",
        "colab_type": "code",
        "colab": {
          "base_uri": "https://localhost:8080/",
          "height": 286
        },
        "outputId": "d254264d-6c5c-4380-c787-cf054d2b2cc0"
      },
      "source": [
        "train_data= pd.read_csv(\"/content/drive/My Drive/Colab Notebooks/Python_LAB2/Lab2_5_Data/train.tsv\", sep=\"\\t\")\n",
        "print(train_data.shape)\n",
        "train_data.head\n",
        "test_data = pd.read_csv(\"/content/drive/My Drive/Colab Notebooks/Python_LAB2/Lab2_5_Data/test.tsv\", sep=\"\\t\")\n",
        "print(train_data.shape)\n",
        "train_data.head"
      ],
      "execution_count": 2,
      "outputs": [
        {
          "output_type": "stream",
          "text": [
            "(156060, 4)\n",
            "(156060, 4)\n"
          ],
          "name": "stdout"
        },
        {
          "output_type": "execute_result",
          "data": {
            "text/plain": [
              "<bound method NDFrame.head of         PhraseId  ...  Sentiment\n",
              "0              1  ...          1\n",
              "1              2  ...          2\n",
              "2              3  ...          2\n",
              "3              4  ...          2\n",
              "4              5  ...          2\n",
              "...          ...  ...        ...\n",
              "156055    156056  ...          2\n",
              "156056    156057  ...          1\n",
              "156057    156058  ...          3\n",
              "156058    156059  ...          2\n",
              "156059    156060  ...          2\n",
              "\n",
              "[156060 rows x 4 columns]>"
            ]
          },
          "metadata": {
            "tags": []
          },
          "execution_count": 2
        }
      ]
    },
    {
      "cell_type": "code",
      "metadata": {
        "id": "W3HkdLa1CRZ3",
        "colab_type": "code",
        "colab": {}
      },
      "source": [
        "train_data = train_data.drop(columns=['PhraseId', 'SentenceId'])\n",
        "test_data = test_data.drop(columns=['PhraseId', 'SentenceId'])"
      ],
      "execution_count": 0,
      "outputs": []
    },
    {
      "cell_type": "code",
      "metadata": {
        "id": "byzKzyALlc_2",
        "colab_type": "code",
        "colab": {}
      },
      "source": [
        "label=train_data[['Sentiment']]"
      ],
      "execution_count": 0,
      "outputs": []
    },
    {
      "cell_type": "code",
      "metadata": {
        "id": "D-b3mhf2ld8W",
        "colab_type": "code",
        "colab": {}
      },
      "source": [
        "train_data=train_data.drop(columns=['Sentiment'])"
      ],
      "execution_count": 0,
      "outputs": []
    },
    {
      "cell_type": "code",
      "metadata": {
        "id": "7PXicwjrCR_5",
        "colab_type": "code",
        "colab": {}
      },
      "source": [
        "train_data['Phrase'] = train_data['Phrase'].apply(lambda x: re.sub('[^a-zA-z0-9\\s]', '', x.lower()))\n",
        "test_data['Phrase'] = test_data['Phrase'].apply(lambda x: re.sub('[^a-zA-z0-9\\s]', '', x.lower()))"
      ],
      "execution_count": 0,
      "outputs": []
    },
    {
      "cell_type": "code",
      "metadata": {
        "id": "KQSUHASQCUGM",
        "colab_type": "code",
        "colab": {}
      },
      "source": [
        "max_fatures =5000\n",
        "tokenizer = Tokenizer(num_words=max_fatures, split=' ')\n",
        "tokenizer.fit_on_texts(train_data['Phrase'].values)\n",
        "X_train = tokenizer.texts_to_sequences(train_data['Phrase'].values)\n",
        "X_train = pad_sequences(X_train)"
      ],
      "execution_count": 0,
      "outputs": []
    },
    {
      "cell_type": "code",
      "metadata": {
        "id": "Z56ME5mvCWZi",
        "colab_type": "code",
        "colab": {}
      },
      "source": [
        "max_fatures = 2000\n",
        "tokenizer = Tokenizer(num_words=max_fatures, split=' ')\n",
        "tokenizer.fit_on_texts(test_data['Phrase'].values)\n",
        "X_test = tokenizer.texts_to_sequences(test_data['Phrase'].values)\n",
        "X_test = pad_sequences(X_test)"
      ],
      "execution_count": 0,
      "outputs": []
    },
    {
      "cell_type": "code",
      "metadata": {
        "id": "IzbQllUtmA55",
        "colab_type": "code",
        "colab": {
          "base_uri": "https://localhost:8080/",
          "height": 34
        },
        "outputId": "e0648f84-8c92-4ed8-ce01-8da496a98f8a"
      },
      "source": [
        "X_train.shape"
      ],
      "execution_count": 21,
      "outputs": [
        {
          "output_type": "execute_result",
          "data": {
            "text/plain": [
              "(156060, 46)"
            ]
          },
          "metadata": {
            "tags": []
          },
          "execution_count": 21
        }
      ]
    },
    {
      "cell_type": "code",
      "metadata": {
        "id": "duyiCV2ZmEfO",
        "colab_type": "code",
        "colab": {
          "base_uri": "https://localhost:8080/",
          "height": 34
        },
        "outputId": "51a32738-7f1b-48c1-af0a-ee445fc0678a"
      },
      "source": [
        "X_test.shape"
      ],
      "execution_count": 22,
      "outputs": [
        {
          "output_type": "execute_result",
          "data": {
            "text/plain": [
              "(66292, 46)"
            ]
          },
          "metadata": {
            "tags": []
          },
          "execution_count": 22
        }
      ]
    },
    {
      "cell_type": "code",
      "metadata": {
        "id": "7GnY9RklCYJ-",
        "colab_type": "code",
        "colab": {
          "base_uri": "https://localhost:8080/",
          "height": 104
        },
        "outputId": "fed99e09-d969-4cab-c54f-555fa70469d2"
      },
      "source": [
        "label_encoder = LabelEncoder()\n",
        "integer_encoded = label_encoder.fit_transform(label)\n",
        "Y_train = to_categorical(integer_encoded)\n",
        "X_tr, X_te, Y_tr, Y_te = train_test_split(X_train, Y_train, test_size=0.25, random_state=30)\n",
        "print(X_tr.shape,Y_tr.shape)\n",
        "print(X_te.shape,Y_te.shape)"
      ],
      "execution_count": 23,
      "outputs": [
        {
          "output_type": "stream",
          "text": [
            "(117045, 46) (117045, 5)\n",
            "(39015, 46) (39015, 5)\n"
          ],
          "name": "stdout"
        },
        {
          "output_type": "stream",
          "text": [
            "/usr/local/lib/python3.6/dist-packages/sklearn/preprocessing/_label.py:251: DataConversionWarning: A column-vector y was passed when a 1d array was expected. Please change the shape of y to (n_samples, ), for example using ravel().\n",
            "  y = column_or_1d(y, warn=True)\n"
          ],
          "name": "stderr"
        }
      ]
    },
    {
      "cell_type": "code",
      "metadata": {
        "id": "vrkFOO3OCaNB",
        "colab_type": "code",
        "colab": {}
      },
      "source": [
        "num_classes = Y_train.shape[1]\n",
        "max_words= X_train.shape[1]\n",
        "model= Sequential()\n",
        "model.add(Embedding(max_features,100,input_length=max_words))\n",
        "model.add(Dropout(0.2))\n",
        "model.add(Conv1D(64,kernel_size=3,padding='same',activation='relu',strides=1))\n",
        "model.add(GlobalMaxPooling1D())\n",
        "model.add(Dense(128,activation='relu'))\n",
        "model.add(Dropout(0.2))\n",
        "model.add(Dense(num_classes,activation='softmax'))\n",
        "model.compile(loss='categorical_crossentropy',optimizer='adam',metrics=['accuracy'])"
      ],
      "execution_count": 0,
      "outputs": []
    },
    {
      "cell_type": "code",
      "metadata": {
        "id": "FSVuqXpiER-0",
        "colab_type": "code",
        "colab": {
          "base_uri": "https://localhost:8080/",
          "height": 255
        },
        "outputId": "1deb6e06-3001-4e3b-8c38-9742f932d786"
      },
      "source": [
        "history=model.fit(X_tr, Y_tr, validation_data=(X_te, Y_te),epochs=5, batch_size=512, verbose=1, callbacks=[tensorboard])"
      ],
      "execution_count": 25,
      "outputs": [
        {
          "output_type": "stream",
          "text": [
            "/usr/local/lib/python3.6/dist-packages/tensorflow/python/framework/indexed_slices.py:434: UserWarning: Converting sparse IndexedSlices to a dense Tensor of unknown shape. This may consume a large amount of memory.\n",
            "  \"Converting sparse IndexedSlices to a dense Tensor of unknown shape. \"\n"
          ],
          "name": "stderr"
        },
        {
          "output_type": "stream",
          "text": [
            "Train on 117045 samples, validate on 39015 samples\n",
            "Epoch 1/5\n",
            "117045/117045 [==============================] - 31s 262us/step - loss: 1.1564 - accuracy: 0.5528 - val_loss: 0.9662 - val_accuracy: 0.6139\n",
            "Epoch 2/5\n",
            "117045/117045 [==============================] - 30s 257us/step - loss: 0.9186 - accuracy: 0.6363 - val_loss: 0.9177 - val_accuracy: 0.6310\n",
            "Epoch 3/5\n",
            "117045/117045 [==============================] - 30s 260us/step - loss: 0.8569 - accuracy: 0.6598 - val_loss: 0.8810 - val_accuracy: 0.6465\n",
            "Epoch 4/5\n",
            "117045/117045 [==============================] - 30s 255us/step - loss: 0.8118 - accuracy: 0.6761 - val_loss: 0.8740 - val_accuracy: 0.6493\n",
            "Epoch 5/5\n",
            "117045/117045 [==============================] - 30s 258us/step - loss: 0.7772 - accuracy: 0.6904 - val_loss: 0.8648 - val_accuracy: 0.6539\n"
          ],
          "name": "stdout"
        }
      ]
    },
    {
      "cell_type": "code",
      "metadata": {
        "id": "ui01C_5jnZxN",
        "colab_type": "code",
        "colab": {
          "base_uri": "https://localhost:8080/",
          "height": 34
        },
        "outputId": "7093fa45-ab25-4de4-c447-138ac2d5af9d"
      },
      "source": [
        "model.predict_classes(X_te[:1])"
      ],
      "execution_count": 27,
      "outputs": [
        {
          "output_type": "execute_result",
          "data": {
            "text/plain": [
              "array([2])"
            ]
          },
          "metadata": {
            "tags": []
          },
          "execution_count": 27
        }
      ]
    },
    {
      "cell_type": "code",
      "metadata": {
        "id": "__UODK6Mniey",
        "colab_type": "code",
        "colab": {
          "base_uri": "https://localhost:8080/",
          "height": 34
        },
        "outputId": "7e256eae-6d2f-4aa2-ddb8-7541afb88beb"
      },
      "source": [
        "Y_te[2]"
      ],
      "execution_count": 28,
      "outputs": [
        {
          "output_type": "execute_result",
          "data": {
            "text/plain": [
              "array([0., 0., 1., 0., 0.], dtype=float32)"
            ]
          },
          "metadata": {
            "tags": []
          },
          "execution_count": 28
        }
      ]
    },
    {
      "cell_type": "code",
      "metadata": {
        "id": "JtLq8bgwno3C",
        "colab_type": "code",
        "colab": {}
      },
      "source": [
        "y_pred=model.predict_classes(X_test[:1])"
      ],
      "execution_count": 0,
      "outputs": []
    },
    {
      "cell_type": "code",
      "metadata": {
        "id": "5JY6Ak7snvb0",
        "colab_type": "code",
        "colab": {
          "base_uri": "https://localhost:8080/",
          "height": 67
        },
        "outputId": "79a1cfac-44c3-4d94-8558-3a7bb02b0fd3"
      },
      "source": [
        "sub_file = pd.read_csv('/content/drive/My Drive/Colab Notebooks/Python_LAB2/Lab2_5_Data/sampleSubmission.csv',sep=',')\n",
        "sub_file.iloc[0]"
      ],
      "execution_count": 35,
      "outputs": [
        {
          "output_type": "execute_result",
          "data": {
            "text/plain": [
              "PhraseId     156061\n",
              "Sentiment         2\n",
              "Name: 0, dtype: int64"
            ]
          },
          "metadata": {
            "tags": []
          },
          "execution_count": 35
        }
      ]
    },
    {
      "cell_type": "code",
      "metadata": {
        "id": "WcYqaqIYpQWI",
        "colab_type": "code",
        "colab": {
          "base_uri": "https://localhost:8080/",
          "height": 50
        },
        "outputId": "7ad0d7b0-44e1-4417-fbd6-107f52e82302"
      },
      "source": [
        "print(\"PREDICTED LABEL \",y_pred[0])\n",
        "print(\"ACTUAL LABEL  \",sub_file['Sentiment'].iloc[0])"
      ],
      "execution_count": 40,
      "outputs": [
        {
          "output_type": "stream",
          "text": [
            "PREDICTED LABEL  2\n",
            "ACTUAL LABEL   2\n"
          ],
          "name": "stdout"
        }
      ]
    },
    {
      "cell_type": "code",
      "metadata": {
        "id": "bLGgsJOVMcPk",
        "colab_type": "code",
        "colab": {}
      },
      "source": [
        "from keras.optimizers import adam\n",
        "s=adam(lr=0.001)\n",
        "model1= Sequential()\n",
        "model1.add(Embedding(max_features,100,input_length=max_words))\n",
        "model1.add(Dropout(0.2))\n",
        "model1.add(Conv1D(64,kernel_size=3,padding='same',activation='relu',strides=1))\n",
        "model1.add(GlobalMaxPooling1D())\n",
        "model1.add(Dense(128,activation='relu'))\n",
        "model1.add(Dropout(0.2))\n",
        "model1.add(Dense(num_classes,activation='softmax'))\n",
        "model1.compile(loss='binary_crossentropy',optimizer=s,metrics=['accuracy'])"
      ],
      "execution_count": 0,
      "outputs": []
    },
    {
      "cell_type": "code",
      "metadata": {
        "id": "Eq0lX4HAM2Cs",
        "colab_type": "code",
        "colab": {
          "base_uri": "https://localhost:8080/",
          "height": 255
        },
        "outputId": "b1e7b8d8-119f-420b-94cd-40844fea1924"
      },
      "source": [
        "history1=model1.fit(X_tr, Y_tr, validation_data=(X_te, Y_te),epochs=5, batch_size=51, verbose=1, callbacks=[tensorboard])"
      ],
      "execution_count": 25,
      "outputs": [
        {
          "output_type": "stream",
          "text": [
            "/usr/local/lib/python3.6/dist-packages/tensorflow/python/framework/indexed_slices.py:434: UserWarning: Converting sparse IndexedSlices to a dense Tensor of unknown shape. This may consume a large amount of memory.\n",
            "  \"Converting sparse IndexedSlices to a dense Tensor of unknown shape. \"\n"
          ],
          "name": "stderr"
        },
        {
          "output_type": "stream",
          "text": [
            "Train on 117045 samples, validate on 39015 samples\n",
            "Epoch 1/5\n",
            "117045/117045 [==============================] - 45s 384us/step - loss: 0.3548 - accuracy: 0.8444 - val_loss: 0.3305 - val_accuracy: 0.8520\n",
            "Epoch 2/5\n",
            "117045/117045 [==============================] - 44s 377us/step - loss: 0.3237 - accuracy: 0.8564 - val_loss: 0.3247 - val_accuracy: 0.8547\n",
            "Epoch 3/5\n",
            "117045/117045 [==============================] - 45s 380us/step - loss: 0.3109 - accuracy: 0.8621 - val_loss: 0.3183 - val_accuracy: 0.8584\n",
            "Epoch 4/5\n",
            "117045/117045 [==============================] - 44s 375us/step - loss: 0.3022 - accuracy: 0.8664 - val_loss: 0.3175 - val_accuracy: 0.8582\n",
            "Epoch 5/5\n",
            "117045/117045 [==============================] - 44s 377us/step - loss: 0.2952 - accuracy: 0.8699 - val_loss: 0.3179 - val_accuracy: 0.8569\n"
          ],
          "name": "stdout"
        }
      ]
    }
  ]
}