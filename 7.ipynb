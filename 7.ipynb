{
  "nbformat": 4,
  "nbformat_minor": 0,
  "metadata": {
    "colab": {
      "name": "Lab2_7.ipynb",
      "provenance": []
    },
    "kernelspec": {
      "name": "python3",
      "display_name": "Python 3"
    }
  },
  "cells": [
    {
      "cell_type": "code",
      "metadata": {
        "id": "N-X2aEtKAqpF",
        "colab_type": "code",
        "colab": {
          "base_uri": "https://localhost:8080/",
          "height": 34
        },
        "outputId": "439e3f16-7883-4174-d569-f4d869fe83f1"
      },
      "source": [
        "from keras.layers import Input, Dense\n",
        "from keras.models import Model\n",
        "import numpy as np\n",
        "from keras.datasets import mnist, fashion_mnist\n"
      ],
      "execution_count": 1,
      "outputs": [
        {
          "output_type": "stream",
          "text": [
            "Using TensorFlow backend.\n"
          ],
          "name": "stderr"
        }
      ]
    },
    {
      "cell_type": "code",
      "metadata": {
        "id": "rag1aNecAxz8",
        "colab_type": "code",
        "colab": {}
      },
      "source": [
        "(x_train, y_train), (x_test, y_test) = mnist.load_data()\n",
        "x_train = x_train.astype('float32') / 255.\n",
        "x_test = x_test.astype('float32') / 255.\n",
        "x_train = x_train.reshape((len(x_train), np.prod(x_train.shape[1:])))\n",
        "x_test = x_test.reshape((len(x_test), np.prod(x_test.shape[1:])))"
      ],
      "execution_count": 0,
      "outputs": []
    },
    {
      "cell_type": "code",
      "metadata": {
        "id": "7-m4MjJHA_R6",
        "colab_type": "code",
        "colab": {}
      },
      "source": [
        "encoding_dim = 32 \n",
        "input_img = Input(shape=(784,))\n",
        "encoded = Dense(encoding_dim, activation='relu')(input_img)\n",
        "decoded = Dense(784, activation='sigmoid')(encoded)\n",
        "autoencoder = Model(input_img, decoded)\n",
        "autoencoder.compile(optimizer='adadelta', loss='binary_crossentropy')"
      ],
      "execution_count": 0,
      "outputs": []
    },
    {
      "cell_type": "code",
      "metadata": {
        "id": "5VzMQFV6WiwS",
        "colab_type": "code",
        "colab": {
          "base_uri": "https://localhost:8080/",
          "height": 218
        },
        "outputId": "d82681b0-9f0c-4dc0-875e-76a5904d5685"
      },
      "source": [
        "autoencoder.fit(x_train, x_train,\n",
        "                epochs=5,\n",
        "                batch_size=256,\n",
        "                shuffle=True,\n",
        "                validation_data=(x_test, x_test))"
      ],
      "execution_count": 5,
      "outputs": [
        {
          "output_type": "stream",
          "text": [
            "Train on 60000 samples, validate on 10000 samples\n",
            "Epoch 1/5\n",
            "60000/60000 [==============================] - 2s 41us/step - loss: 0.3491 - val_loss: 0.2708\n",
            "Epoch 2/5\n",
            "60000/60000 [==============================] - 2s 36us/step - loss: 0.2627 - val_loss: 0.2511\n",
            "Epoch 3/5\n",
            "60000/60000 [==============================] - 2s 36us/step - loss: 0.2405 - val_loss: 0.2280\n",
            "Epoch 4/5\n",
            "60000/60000 [==============================] - 2s 38us/step - loss: 0.2202 - val_loss: 0.2104\n",
            "Epoch 5/5\n",
            "60000/60000 [==============================] - 2s 37us/step - loss: 0.2054 - val_loss: 0.1982\n"
          ],
          "name": "stdout"
        },
        {
          "output_type": "execute_result",
          "data": {
            "text/plain": [
              "<keras.callbacks.callbacks.History at 0x7f236d0f6da0>"
            ]
          },
          "metadata": {
            "tags": []
          },
          "execution_count": 5
        }
      ]
    },
    {
      "cell_type": "code",
      "metadata": {
        "id": "5hXhJ9SZWmLS",
        "colab_type": "code",
        "colab": {}
      },
      "source": [
        "pred = autoencoder.predict(x_test[[1],:])"
      ],
      "execution_count": 0,
      "outputs": []
    },
    {
      "cell_type": "markdown",
      "metadata": {
        "id": "el3g7aNyYlfO",
        "colab_type": "text"
      },
      "source": [
        "INPUT IMAGE"
      ]
    },
    {
      "cell_type": "code",
      "metadata": {
        "id": "boC22S_aXR-Z",
        "colab_type": "code",
        "colab": {
          "base_uri": "https://localhost:8080/",
          "height": 265
        },
        "outputId": "6456f97f-1d40-428e-f14c-95a1477c49af"
      },
      "source": [
        "from matplotlib import pyplot as plt\n",
        "plt.imshow(x_test[1].reshape(28,28))\n",
        "plt.show()"
      ],
      "execution_count": 7,
      "outputs": [
        {
          "output_type": "display_data",
          "data": {
            "image/png": "[encoded data removed]",
            "text/plain": [
              "<Figure size 432x288 with 1 Axes>"
            ]
          },
          "metadata": {
            "tags": [],
            "needs_background": "light"
          }
        }
      ]
    },
    {
      "cell_type": "markdown",
      "metadata": {
        "id": "levFIhMTYqm_",
        "colab_type": "text"
      },
      "source": [
        "AFTER ENCODING"
      ]
    },
    {
      "cell_type": "code",
      "metadata": {
        "id": "s4B1-aW8XZUJ",
        "colab_type": "code",
        "colab": {
          "base_uri": "https://localhost:8080/",
          "height": 265
        },
        "outputId": "692781d7-c3a2-41bf-b351-cd834b3270a0"
      },
      "source": [
        "from matplotlib import pyplot as plt\n",
        "plt.imshow(pred[0].reshape(28,28))\n",
        "plt.show()"
      ],
      "execution_count": 9,
      "outputs": [
        {
          "output_type": "display_data",
          "data": {
            "image/png": "[encoded data removed]",
            "text/plain": [
              "<Figure size 432x288 with 1 Axes>"
            ]
          },
          "metadata": {
            "tags": [],
            "needs_background": "light"
          }
        }
      ]
    },
    {
      "cell_type": "markdown",
      "metadata": {
        "id": "96I2Fe51ZUcG",
        "colab_type": "text"
      },
      "source": [
        "AFTER DECODING"
      ]
    },
    {
      "cell_type": "code",
      "metadata": {
        "id": "tZT3eHtfXwGS",
        "colab_type": "code",
        "colab": {}
      },
      "source": [
        "pred1 = autoencoder.predict(x_test[1:])"
      ],
      "execution_count": 0,
      "outputs": []
    },
    {
      "cell_type": "code",
      "metadata": {
        "id": "W89RnNgXY9zT",
        "colab_type": "code",
        "colab": {
          "base_uri": "https://localhost:8080/",
          "height": 265
        },
        "outputId": "2075b6bc-55e5-49ad-d53d-48bb6c2e5c95"
      },
      "source": [
        "from matplotlib import pyplot as plt\n",
        "plt.imshow(pred1[0].reshape(28,28))\n",
        "plt.show()"
      ],
      "execution_count": 11,
      "outputs": [
        {
          "output_type": "display_data",
          "data": {
            "image/png": "[encoded data removed]",
            "text/plain": [
              "<Figure size 432x288 with 1 Axes>"
            ]
          },
          "metadata": {
            "tags": [],
            "needs_background": "light"
          }
        }
      ]
    }
  ]
}